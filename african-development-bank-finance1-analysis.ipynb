{
 "cells": [
  {
   "cell_type": "code",
   "execution_count": 1,
   "id": "290ef44b",
   "metadata": {
    "execution": {
     "iopub.execute_input": "2024-06-01T18:07:34.834338Z",
     "iopub.status.busy": "2024-06-01T18:07:34.833949Z",
     "iopub.status.idle": "2024-06-01T18:07:37.125489Z",
     "shell.execute_reply": "2024-06-01T18:07:37.124378Z"
    },
    "papermill": {
     "duration": 2.304825,
     "end_time": "2024-06-01T18:07:37.128478",
     "exception": false,
     "start_time": "2024-06-01T18:07:34.823653",
     "status": "completed"
    },
    "tags": []
   },
   "outputs": [],
   "source": [
    "import numpy as np\n",
    "import pandas as pd\n",
    "import matplotlib.pyplot as plt\n",
    "import seaborn as sns"
   ]
  },
  {
   "cell_type": "code",
   "execution_count": 2,
   "id": "18e8da99",
   "metadata": {
    "execution": {
     "iopub.execute_input": "2024-06-01T18:07:37.146939Z",
     "iopub.status.busy": "2024-06-01T18:07:37.146435Z",
     "iopub.status.idle": "2024-06-01T18:07:37.187962Z",
     "shell.execute_reply": "2024-06-01T18:07:37.186866Z"
    },
    "papermill": {
     "duration": 0.054465,
     "end_time": "2024-06-01T18:07:37.191359",
     "exception": false,
     "start_time": "2024-06-01T18:07:37.136894",
     "status": "completed"
    },
    "tags": []
   },
   "outputs": [
    {
     "data": {
      "text/html": [
       "<div>\n",
       "<style scoped>\n",
       "    .dataframe tbody tr th:only-of-type {\n",
       "        vertical-align: middle;\n",
       "    }\n",
       "\n",
       "    .dataframe tbody tr th {\n",
       "        vertical-align: top;\n",
       "    }\n",
       "\n",
       "    .dataframe thead th {\n",
       "        text-align: right;\n",
       "    }\n",
       "</style>\n",
       "<table border=\"1\" class=\"dataframe\">\n",
       "  <thead>\n",
       "    <tr style=\"text-align: right;\">\n",
       "      <th></th>\n",
       "      <th>Project Code</th>\n",
       "      <th>Title</th>\n",
       "      <th>Commitment in U.A</th>\n",
       "      <th>Country</th>\n",
       "      <th>Starting Date</th>\n",
       "      <th>Status</th>\n",
       "      <th>Source of Financing</th>\n",
       "      <th>Sector</th>\n",
       "      <th>Sovereign</th>\n",
       "    </tr>\n",
       "  </thead>\n",
       "  <tbody>\n",
       "    <tr>\n",
       "      <th>0</th>\n",
       "      <td>P-MG-H00-002</td>\n",
       "      <td>Madagascar - Industrialisation and Financial S...</td>\n",
       "      <td>12,080,000.00</td>\n",
       "      <td>Madagascar</td>\n",
       "      <td>28 Oct 2020</td>\n",
       "      <td>Approved</td>\n",
       "      <td>African Development Fund</td>\n",
       "      <td>Finance</td>\n",
       "      <td>Sovereign</td>\n",
       "    </tr>\n",
       "    <tr>\n",
       "      <th>1</th>\n",
       "      <td>P-Z1-H00-063</td>\n",
       "      <td>Multinational - Domestic debt markets developm...</td>\n",
       "      <td>1,500,000.00</td>\n",
       "      <td>Multinational</td>\n",
       "      <td>13 Oct 2020</td>\n",
       "      <td>Implementation</td>\n",
       "      <td>Fragile States Facility</td>\n",
       "      <td>Finance</td>\n",
       "      <td>Sovereign</td>\n",
       "    </tr>\n",
       "    <tr>\n",
       "      <th>2</th>\n",
       "      <td>P-MG-HAZ-001</td>\n",
       "      <td>Madagascar - SME Business Linkages Program</td>\n",
       "      <td>1,000,000.00</td>\n",
       "      <td>Madagascar</td>\n",
       "      <td>15 May 2020</td>\n",
       "      <td>Implementation</td>\n",
       "      <td>Fragile States Facility</td>\n",
       "      <td>Finance</td>\n",
       "      <td>Sovereign</td>\n",
       "    </tr>\n",
       "    <tr>\n",
       "      <th>3</th>\n",
       "      <td>P-MU-H00-004</td>\n",
       "      <td>Mauritius - Stock Exchange Mauritius (SEM) Pro...</td>\n",
       "      <td>430,000.00</td>\n",
       "      <td>Mauritius</td>\n",
       "      <td>27 Apr 2020</td>\n",
       "      <td>Implementation</td>\n",
       "      <td>Middle Income Countries Fund</td>\n",
       "      <td>Finance</td>\n",
       "      <td>Sovereign</td>\n",
       "    </tr>\n",
       "    <tr>\n",
       "      <th>4</th>\n",
       "      <td>P-AO-HAB-009</td>\n",
       "      <td>Angola - Line of Credit to « Banco Millennium ...</td>\n",
       "      <td>23,415,605.04</td>\n",
       "      <td>Angola</td>\n",
       "      <td>15 Apr 2020</td>\n",
       "      <td>Approved</td>\n",
       "      <td>African Development Bank</td>\n",
       "      <td>Finance</td>\n",
       "      <td>Non Sovereign</td>\n",
       "    </tr>\n",
       "  </tbody>\n",
       "</table>\n",
       "</div>"
      ],
      "text/plain": [
       "   Project Code                                              Title  \\\n",
       "0  P-MG-H00-002  Madagascar - Industrialisation and Financial S...   \n",
       "1  P-Z1-H00-063  Multinational - Domestic debt markets developm...   \n",
       "2  P-MG-HAZ-001         Madagascar - SME Business Linkages Program   \n",
       "3  P-MU-H00-004  Mauritius - Stock Exchange Mauritius (SEM) Pro...   \n",
       "4  P-AO-HAB-009  Angola - Line of Credit to « Banco Millennium ...   \n",
       "\n",
       "  Commitment in U.A        Country Starting Date          Status  \\\n",
       "0     12,080,000.00     Madagascar   28 Oct 2020        Approved   \n",
       "1      1,500,000.00  Multinational   13 Oct 2020  Implementation   \n",
       "2      1,000,000.00     Madagascar   15 May 2020  Implementation   \n",
       "3        430,000.00      Mauritius   27 Apr 2020  Implementation   \n",
       "4     23,415,605.04         Angola   15 Apr 2020        Approved   \n",
       "\n",
       "            Source of Financing   Sector      Sovereign  \n",
       "0      African Development Fund  Finance      Sovereign  \n",
       "1       Fragile States Facility  Finance      Sovereign  \n",
       "2       Fragile States Facility  Finance      Sovereign  \n",
       "3  Middle Income Countries Fund  Finance      Sovereign  \n",
       "4      African Development Bank  Finance  Non Sovereign  "
      ]
     },
     "execution_count": 2,
     "metadata": {},
     "output_type": "execute_result"
    }
   ],
   "source": [
    "df = pd.read_csv('/kaggle/input/african-development-bank/finance1.csv', encoding =\"latin-1\")\n",
    "df.head(5)"
   ]
  },
  {
   "cell_type": "code",
   "execution_count": 3,
   "id": "360024b5",
   "metadata": {
    "execution": {
     "iopub.execute_input": "2024-06-01T18:07:37.210626Z",
     "iopub.status.busy": "2024-06-01T18:07:37.210248Z",
     "iopub.status.idle": "2024-06-01T18:07:37.234425Z",
     "shell.execute_reply": "2024-06-01T18:07:37.233164Z"
    },
    "papermill": {
     "duration": 0.036695,
     "end_time": "2024-06-01T18:07:37.236841",
     "exception": false,
     "start_time": "2024-06-01T18:07:37.200146",
     "status": "completed"
    },
    "tags": []
   },
   "outputs": [
    {
     "name": "stdout",
     "output_type": "stream",
     "text": [
      "<class 'pandas.core.frame.DataFrame'>\n",
      "RangeIndex: 355 entries, 0 to 354\n",
      "Data columns (total 9 columns):\n",
      " #   Column               Non-Null Count  Dtype \n",
      "---  ------               --------------  ----- \n",
      " 0   Project Code         337 non-null    object\n",
      " 1   Title                336 non-null    object\n",
      " 2   Commitment in U.A    336 non-null    object\n",
      " 3   Country              336 non-null    object\n",
      " 4   Starting Date        336 non-null    object\n",
      " 5   Status               336 non-null    object\n",
      " 6   Source of Financing  336 non-null    object\n",
      " 7   Sector               336 non-null    object\n",
      " 8   Sovereign            281 non-null    object\n",
      "dtypes: object(9)\n",
      "memory usage: 25.1+ KB\n"
     ]
    }
   ],
   "source": [
    "df.info()"
   ]
  },
  {
   "cell_type": "code",
   "execution_count": 4,
   "id": "2cce9a53",
   "metadata": {
    "execution": {
     "iopub.execute_input": "2024-06-01T18:07:37.255746Z",
     "iopub.status.busy": "2024-06-01T18:07:37.254735Z",
     "iopub.status.idle": "2024-06-01T18:07:37.280343Z",
     "shell.execute_reply": "2024-06-01T18:07:37.279267Z"
    },
    "papermill": {
     "duration": 0.037615,
     "end_time": "2024-06-01T18:07:37.282741",
     "exception": false,
     "start_time": "2024-06-01T18:07:37.245126",
     "status": "completed"
    },
    "tags": []
   },
   "outputs": [
    {
     "data": {
      "text/html": [
       "<div>\n",
       "<style scoped>\n",
       "    .dataframe tbody tr th:only-of-type {\n",
       "        vertical-align: middle;\n",
       "    }\n",
       "\n",
       "    .dataframe tbody tr th {\n",
       "        vertical-align: top;\n",
       "    }\n",
       "\n",
       "    .dataframe thead th {\n",
       "        text-align: right;\n",
       "    }\n",
       "</style>\n",
       "<table border=\"1\" class=\"dataframe\">\n",
       "  <thead>\n",
       "    <tr style=\"text-align: right;\">\n",
       "      <th></th>\n",
       "      <th>Project Code</th>\n",
       "      <th>Title</th>\n",
       "      <th>Commitment in U.A</th>\n",
       "      <th>Country</th>\n",
       "      <th>Starting Date</th>\n",
       "      <th>Status</th>\n",
       "      <th>Source of Financing</th>\n",
       "      <th>Sector</th>\n",
       "      <th>Sovereign</th>\n",
       "    </tr>\n",
       "  </thead>\n",
       "  <tbody>\n",
       "    <tr>\n",
       "      <th>count</th>\n",
       "      <td>337</td>\n",
       "      <td>336</td>\n",
       "      <td>336</td>\n",
       "      <td>336</td>\n",
       "      <td>336</td>\n",
       "      <td>336</td>\n",
       "      <td>336</td>\n",
       "      <td>336</td>\n",
       "      <td>281</td>\n",
       "    </tr>\n",
       "    <tr>\n",
       "      <th>unique</th>\n",
       "      <td>337</td>\n",
       "      <td>320</td>\n",
       "      <td>305</td>\n",
       "      <td>47</td>\n",
       "      <td>262</td>\n",
       "      <td>4</td>\n",
       "      <td>9</td>\n",
       "      <td>1</td>\n",
       "      <td>3</td>\n",
       "    </tr>\n",
       "    <tr>\n",
       "      <th>top</th>\n",
       "      <td>P-MG-H00-002</td>\n",
       "      <td>Line of Credit II</td>\n",
       "      <td>70,832,064.26</td>\n",
       "      <td>Multinational</td>\n",
       "      <td>17 Jul 2019</td>\n",
       "      <td>Completion</td>\n",
       "      <td>African Development Bank</td>\n",
       "      <td>Finance</td>\n",
       "      <td>Sovereign</td>\n",
       "    </tr>\n",
       "    <tr>\n",
       "      <th>freq</th>\n",
       "      <td>1</td>\n",
       "      <td>3</td>\n",
       "      <td>4</td>\n",
       "      <td>65</td>\n",
       "      <td>7</td>\n",
       "      <td>210</td>\n",
       "      <td>224</td>\n",
       "      <td>336</td>\n",
       "      <td>167</td>\n",
       "    </tr>\n",
       "  </tbody>\n",
       "</table>\n",
       "</div>"
      ],
      "text/plain": [
       "        Project Code              Title Commitment in U.A        Country  \\\n",
       "count            337                336               336            336   \n",
       "unique           337                320               305             47   \n",
       "top     P-MG-H00-002  Line of Credit II     70,832,064.26  Multinational   \n",
       "freq               1                  3                 4             65   \n",
       "\n",
       "       Starting Date      Status       Source of Financing   Sector  Sovereign  \n",
       "count            336         336                       336      336        281  \n",
       "unique           262           4                         9        1          3  \n",
       "top      17 Jul 2019  Completion  African Development Bank  Finance  Sovereign  \n",
       "freq               7         210                       224      336        167  "
      ]
     },
     "execution_count": 4,
     "metadata": {},
     "output_type": "execute_result"
    }
   ],
   "source": [
    "df.describe()"
   ]
  },
  {
   "cell_type": "markdown",
   "id": "69e131f9",
   "metadata": {
    "papermill": {
     "duration": 0.008388,
     "end_time": "2024-06-01T18:07:37.299682",
     "exception": false,
     "start_time": "2024-06-01T18:07:37.291294",
     "status": "completed"
    },
    "tags": []
   },
   "source": [
    "**Cleaning Data** "
   ]
  },
  {
   "cell_type": "code",
   "execution_count": 5,
   "id": "47fe4f24",
   "metadata": {
    "execution": {
     "iopub.execute_input": "2024-06-01T18:07:37.318373Z",
     "iopub.status.busy": "2024-06-01T18:07:37.317988Z",
     "iopub.status.idle": "2024-06-01T18:07:37.326763Z",
     "shell.execute_reply": "2024-06-01T18:07:37.325654Z"
    },
    "papermill": {
     "duration": 0.020951,
     "end_time": "2024-06-01T18:07:37.328986",
     "exception": false,
     "start_time": "2024-06-01T18:07:37.308035",
     "status": "completed"
    },
    "tags": []
   },
   "outputs": [
    {
     "data": {
      "text/plain": [
       "Project Code           18\n",
       "Title                  19\n",
       "Commitment in U.A      19\n",
       "Country                19\n",
       "Starting Date          19\n",
       "Status                 19\n",
       "Source of Financing    19\n",
       "Sector                 19\n",
       "Sovereign              74\n",
       "dtype: int64"
      ]
     },
     "execution_count": 5,
     "metadata": {},
     "output_type": "execute_result"
    }
   ],
   "source": [
    "df.isna().sum()"
   ]
  },
  {
   "cell_type": "code",
   "execution_count": 6,
   "id": "25f2a38c",
   "metadata": {
    "execution": {
     "iopub.execute_input": "2024-06-01T18:07:37.348439Z",
     "iopub.status.busy": "2024-06-01T18:07:37.348055Z",
     "iopub.status.idle": "2024-06-01T18:07:37.356313Z",
     "shell.execute_reply": "2024-06-01T18:07:37.355307Z"
    },
    "papermill": {
     "duration": 0.020324,
     "end_time": "2024-06-01T18:07:37.358449",
     "exception": false,
     "start_time": "2024-06-01T18:07:37.338125",
     "status": "completed"
    },
    "tags": []
   },
   "outputs": [
    {
     "data": {
      "text/plain": [
       "Status\n",
       "Completion        210\n",
       "Implementation     95\n",
       "Approved           26\n",
       "Cancelled           5\n",
       "Name: count, dtype: int64"
      ]
     },
     "execution_count": 6,
     "metadata": {},
     "output_type": "execute_result"
    }
   ],
   "source": [
    "df['Status'].value_counts()"
   ]
  },
  {
   "cell_type": "code",
   "execution_count": 7,
   "id": "4d52ce6f",
   "metadata": {
    "execution": {
     "iopub.execute_input": "2024-06-01T18:07:37.377489Z",
     "iopub.status.busy": "2024-06-01T18:07:37.377075Z",
     "iopub.status.idle": "2024-06-01T18:07:37.384038Z",
     "shell.execute_reply": "2024-06-01T18:07:37.382963Z"
    },
    "papermill": {
     "duration": 0.019002,
     "end_time": "2024-06-01T18:07:37.386079",
     "exception": false,
     "start_time": "2024-06-01T18:07:37.367077",
     "status": "completed"
    },
    "tags": []
   },
   "outputs": [
    {
     "data": {
      "text/plain": [
       "array(['Finance', nan], dtype=object)"
      ]
     },
     "execution_count": 7,
     "metadata": {},
     "output_type": "execute_result"
    }
   ],
   "source": [
    "df['Sector'].unique()"
   ]
  },
  {
   "cell_type": "code",
   "execution_count": 8,
   "id": "33cea100",
   "metadata": {
    "execution": {
     "iopub.execute_input": "2024-06-01T18:07:37.405978Z",
     "iopub.status.busy": "2024-06-01T18:07:37.405579Z",
     "iopub.status.idle": "2024-06-01T18:07:37.414395Z",
     "shell.execute_reply": "2024-06-01T18:07:37.413378Z"
    },
    "papermill": {
     "duration": 0.02113,
     "end_time": "2024-06-01T18:07:37.416691",
     "exception": false,
     "start_time": "2024-06-01T18:07:37.395561",
     "status": "completed"
    },
    "tags": []
   },
   "outputs": [
    {
     "data": {
      "text/plain": [
       "Sovereign\n",
       "Sovereign           167\n",
       "Non Sovereign       113\n",
       "IATI Data Portal      1\n",
       "Name: count, dtype: int64"
      ]
     },
     "execution_count": 8,
     "metadata": {},
     "output_type": "execute_result"
    }
   ],
   "source": [
    "df['Sovereign'].value_counts()"
   ]
  },
  {
   "cell_type": "code",
   "execution_count": 9,
   "id": "b8e314d1",
   "metadata": {
    "execution": {
     "iopub.execute_input": "2024-06-01T18:07:37.436182Z",
     "iopub.status.busy": "2024-06-01T18:07:37.435793Z",
     "iopub.status.idle": "2024-06-01T18:07:37.453795Z",
     "shell.execute_reply": "2024-06-01T18:07:37.452936Z"
    },
    "papermill": {
     "duration": 0.03007,
     "end_time": "2024-06-01T18:07:37.455809",
     "exception": false,
     "start_time": "2024-06-01T18:07:37.425739",
     "status": "completed"
    },
    "tags": []
   },
   "outputs": [
    {
     "data": {
      "text/html": [
       "<div>\n",
       "<style scoped>\n",
       "    .dataframe tbody tr th:only-of-type {\n",
       "        vertical-align: middle;\n",
       "    }\n",
       "\n",
       "    .dataframe tbody tr th {\n",
       "        vertical-align: top;\n",
       "    }\n",
       "\n",
       "    .dataframe thead th {\n",
       "        text-align: right;\n",
       "    }\n",
       "</style>\n",
       "<table border=\"1\" class=\"dataframe\">\n",
       "  <thead>\n",
       "    <tr style=\"text-align: right;\">\n",
       "      <th></th>\n",
       "      <th>Project Code</th>\n",
       "      <th>Title</th>\n",
       "      <th>Commitment in U.A</th>\n",
       "      <th>Country</th>\n",
       "      <th>Starting Date</th>\n",
       "      <th>Status</th>\n",
       "      <th>Source of Financing</th>\n",
       "      <th>Sector</th>\n",
       "      <th>Sovereign</th>\n",
       "    </tr>\n",
       "  </thead>\n",
       "  <tbody>\n",
       "    <tr>\n",
       "      <th>0</th>\n",
       "      <td>P-MG-H00-002</td>\n",
       "      <td>Madagascar - Industrialisation and Financial S...</td>\n",
       "      <td>12,080,000.00</td>\n",
       "      <td>Madagascar</td>\n",
       "      <td>28 Oct 2020</td>\n",
       "      <td>Approved</td>\n",
       "      <td>African Development Fund</td>\n",
       "      <td>Finance</td>\n",
       "      <td>Sovereign</td>\n",
       "    </tr>\n",
       "    <tr>\n",
       "      <th>1</th>\n",
       "      <td>P-Z1-H00-063</td>\n",
       "      <td>Multinational - Domestic debt markets developm...</td>\n",
       "      <td>1,500,000.00</td>\n",
       "      <td>Multinational</td>\n",
       "      <td>13 Oct 2020</td>\n",
       "      <td>Implementation</td>\n",
       "      <td>Fragile States Facility</td>\n",
       "      <td>Finance</td>\n",
       "      <td>Sovereign</td>\n",
       "    </tr>\n",
       "    <tr>\n",
       "      <th>2</th>\n",
       "      <td>P-MG-HAZ-001</td>\n",
       "      <td>Madagascar - SME Business Linkages Program</td>\n",
       "      <td>1,000,000.00</td>\n",
       "      <td>Madagascar</td>\n",
       "      <td>15 May 2020</td>\n",
       "      <td>Implementation</td>\n",
       "      <td>Fragile States Facility</td>\n",
       "      <td>Finance</td>\n",
       "      <td>Sovereign</td>\n",
       "    </tr>\n",
       "    <tr>\n",
       "      <th>3</th>\n",
       "      <td>P-MU-H00-004</td>\n",
       "      <td>Mauritius - Stock Exchange Mauritius (SEM) Pro...</td>\n",
       "      <td>430,000.00</td>\n",
       "      <td>Mauritius</td>\n",
       "      <td>27 Apr 2020</td>\n",
       "      <td>Implementation</td>\n",
       "      <td>Middle Income Countries Fund</td>\n",
       "      <td>Finance</td>\n",
       "      <td>Sovereign</td>\n",
       "    </tr>\n",
       "    <tr>\n",
       "      <th>4</th>\n",
       "      <td>P-AO-HAB-009</td>\n",
       "      <td>Angola - Line of Credit to « Banco Millennium ...</td>\n",
       "      <td>23,415,605.04</td>\n",
       "      <td>Angola</td>\n",
       "      <td>15 Apr 2020</td>\n",
       "      <td>Approved</td>\n",
       "      <td>African Development Bank</td>\n",
       "      <td>Finance</td>\n",
       "      <td>Non Sovereign</td>\n",
       "    </tr>\n",
       "  </tbody>\n",
       "</table>\n",
       "</div>"
      ],
      "text/plain": [
       "   Project Code                                              Title  \\\n",
       "0  P-MG-H00-002  Madagascar - Industrialisation and Financial S...   \n",
       "1  P-Z1-H00-063  Multinational - Domestic debt markets developm...   \n",
       "2  P-MG-HAZ-001         Madagascar - SME Business Linkages Program   \n",
       "3  P-MU-H00-004  Mauritius - Stock Exchange Mauritius (SEM) Pro...   \n",
       "4  P-AO-HAB-009  Angola - Line of Credit to « Banco Millennium ...   \n",
       "\n",
       "  Commitment in U.A        Country Starting Date          Status  \\\n",
       "0     12,080,000.00     Madagascar   28 Oct 2020        Approved   \n",
       "1      1,500,000.00  Multinational   13 Oct 2020  Implementation   \n",
       "2      1,000,000.00     Madagascar   15 May 2020  Implementation   \n",
       "3        430,000.00      Mauritius   27 Apr 2020  Implementation   \n",
       "4     23,415,605.04         Angola   15 Apr 2020        Approved   \n",
       "\n",
       "            Source of Financing   Sector      Sovereign  \n",
       "0      African Development Fund  Finance      Sovereign  \n",
       "1       Fragile States Facility  Finance      Sovereign  \n",
       "2       Fragile States Facility  Finance      Sovereign  \n",
       "3  Middle Income Countries Fund  Finance      Sovereign  \n",
       "4      African Development Bank  Finance  Non Sovereign  "
      ]
     },
     "execution_count": 9,
     "metadata": {},
     "output_type": "execute_result"
    }
   ],
   "source": [
    "data = df.dropna()\n",
    "data.head(5)"
   ]
  },
  {
   "cell_type": "code",
   "execution_count": 10,
   "id": "adb5f208",
   "metadata": {
    "execution": {
     "iopub.execute_input": "2024-06-01T18:07:37.475636Z",
     "iopub.status.busy": "2024-06-01T18:07:37.475260Z",
     "iopub.status.idle": "2024-06-01T18:07:37.486838Z",
     "shell.execute_reply": "2024-06-01T18:07:37.485436Z"
    },
    "papermill": {
     "duration": 0.023962,
     "end_time": "2024-06-01T18:07:37.488908",
     "exception": false,
     "start_time": "2024-06-01T18:07:37.464946",
     "status": "completed"
    },
    "tags": []
   },
   "outputs": [
    {
     "name": "stdout",
     "output_type": "stream",
     "text": [
      "<class 'pandas.core.frame.DataFrame'>\n",
      "Index: 280 entries, 0 to 351\n",
      "Data columns (total 9 columns):\n",
      " #   Column               Non-Null Count  Dtype \n",
      "---  ------               --------------  ----- \n",
      " 0   Project Code         280 non-null    object\n",
      " 1   Title                280 non-null    object\n",
      " 2   Commitment in U.A    280 non-null    object\n",
      " 3   Country              280 non-null    object\n",
      " 4   Starting Date        280 non-null    object\n",
      " 5   Status               280 non-null    object\n",
      " 6   Source of Financing  280 non-null    object\n",
      " 7   Sector               280 non-null    object\n",
      " 8   Sovereign            280 non-null    object\n",
      "dtypes: object(9)\n",
      "memory usage: 21.9+ KB\n"
     ]
    }
   ],
   "source": [
    "data.info()"
   ]
  },
  {
   "cell_type": "code",
   "execution_count": 11,
   "id": "b738cf2f",
   "metadata": {
    "execution": {
     "iopub.execute_input": "2024-06-01T18:07:37.509489Z",
     "iopub.status.busy": "2024-06-01T18:07:37.509082Z",
     "iopub.status.idle": "2024-06-01T18:07:37.519541Z",
     "shell.execute_reply": "2024-06-01T18:07:37.518366Z"
    },
    "papermill": {
     "duration": 0.023965,
     "end_time": "2024-06-01T18:07:37.522243",
     "exception": false,
     "start_time": "2024-06-01T18:07:37.498278",
     "status": "completed"
    },
    "tags": []
   },
   "outputs": [
    {
     "name": "stdout",
     "output_type": "stream",
     "text": [
      "<class 'pandas.core.frame.DataFrame'>\n",
      "RangeIndex: 355 entries, 0 to 354\n",
      "Data columns (total 9 columns):\n",
      " #   Column               Non-Null Count  Dtype \n",
      "---  ------               --------------  ----- \n",
      " 0   Project Code         337 non-null    object\n",
      " 1   Title                336 non-null    object\n",
      " 2   Commitment in U.A    336 non-null    object\n",
      " 3   Country              336 non-null    object\n",
      " 4   Starting Date        336 non-null    object\n",
      " 5   Status               336 non-null    object\n",
      " 6   Source of Financing  336 non-null    object\n",
      " 7   Sector               336 non-null    object\n",
      " 8   Sovereign            281 non-null    object\n",
      "dtypes: object(9)\n",
      "memory usage: 25.1+ KB\n"
     ]
    }
   ],
   "source": [
    "df.info()"
   ]
  },
  {
   "cell_type": "code",
   "execution_count": 12,
   "id": "8b8263f6",
   "metadata": {
    "execution": {
     "iopub.execute_input": "2024-06-01T18:07:37.542887Z",
     "iopub.status.busy": "2024-06-01T18:07:37.542526Z",
     "iopub.status.idle": "2024-06-01T18:07:37.554498Z",
     "shell.execute_reply": "2024-06-01T18:07:37.553408Z"
    },
    "papermill": {
     "duration": 0.025721,
     "end_time": "2024-06-01T18:07:37.557476",
     "exception": false,
     "start_time": "2024-06-01T18:07:37.531755",
     "status": "completed"
    },
    "tags": []
   },
   "outputs": [
    {
     "name": "stderr",
     "output_type": "stream",
     "text": [
      "/tmp/ipykernel_18/3359882951.py:1: SettingWithCopyWarning: \n",
      "A value is trying to be set on a copy of a slice from a DataFrame.\n",
      "Try using .loc[row_indexer,col_indexer] = value instead\n",
      "\n",
      "See the caveats in the documentation: https://pandas.pydata.org/pandas-docs/stable/user_guide/indexing.html#returning-a-view-versus-a-copy\n",
      "  data['Starting Date']=pd.to_datetime(data['Starting Date'])\n"
     ]
    }
   ],
   "source": [
    "data['Starting Date']=pd.to_datetime(data['Starting Date'])"
   ]
  },
  {
   "cell_type": "code",
   "execution_count": 13,
   "id": "7c2d4ac1",
   "metadata": {
    "execution": {
     "iopub.execute_input": "2024-06-01T18:07:37.578053Z",
     "iopub.status.busy": "2024-06-01T18:07:37.577698Z",
     "iopub.status.idle": "2024-06-01T18:07:37.589399Z",
     "shell.execute_reply": "2024-06-01T18:07:37.588182Z"
    },
    "papermill": {
     "duration": 0.02529,
     "end_time": "2024-06-01T18:07:37.592339",
     "exception": false,
     "start_time": "2024-06-01T18:07:37.567049",
     "status": "completed"
    },
    "tags": []
   },
   "outputs": [
    {
     "name": "stdout",
     "output_type": "stream",
     "text": [
      "<class 'pandas.core.frame.DataFrame'>\n",
      "Index: 280 entries, 0 to 351\n",
      "Data columns (total 9 columns):\n",
      " #   Column               Non-Null Count  Dtype         \n",
      "---  ------               --------------  -----         \n",
      " 0   Project Code         280 non-null    object        \n",
      " 1   Title                280 non-null    object        \n",
      " 2   Commitment in U.A    280 non-null    object        \n",
      " 3   Country              280 non-null    object        \n",
      " 4   Starting Date        280 non-null    datetime64[ns]\n",
      " 5   Status               280 non-null    object        \n",
      " 6   Source of Financing  280 non-null    object        \n",
      " 7   Sector               280 non-null    object        \n",
      " 8   Sovereign            280 non-null    object        \n",
      "dtypes: datetime64[ns](1), object(8)\n",
      "memory usage: 21.9+ KB\n"
     ]
    }
   ],
   "source": [
    "data.info()"
   ]
  },
  {
   "cell_type": "code",
   "execution_count": 14,
   "id": "67151b50",
   "metadata": {
    "execution": {
     "iopub.execute_input": "2024-06-01T18:07:37.613553Z",
     "iopub.status.busy": "2024-06-01T18:07:37.613164Z",
     "iopub.status.idle": "2024-06-01T18:07:37.620555Z",
     "shell.execute_reply": "2024-06-01T18:07:37.619702Z"
    },
    "papermill": {
     "duration": 0.020563,
     "end_time": "2024-06-01T18:07:37.622876",
     "exception": false,
     "start_time": "2024-06-01T18:07:37.602313",
     "status": "completed"
    },
    "tags": []
   },
   "outputs": [
    {
     "name": "stderr",
     "output_type": "stream",
     "text": [
      "/tmp/ipykernel_18/645320836.py:1: SettingWithCopyWarning: \n",
      "A value is trying to be set on a copy of a slice from a DataFrame.\n",
      "Try using .loc[row_indexer,col_indexer] = value instead\n",
      "\n",
      "See the caveats in the documentation: https://pandas.pydata.org/pandas-docs/stable/user_guide/indexing.html#returning-a-view-versus-a-copy\n",
      "  data['Starting year']=data['Starting Date'].dt.year\n"
     ]
    }
   ],
   "source": [
    "data['Starting year']=data['Starting Date'].dt.year"
   ]
  },
  {
   "cell_type": "code",
   "execution_count": 15,
   "id": "7e8f7715",
   "metadata": {
    "execution": {
     "iopub.execute_input": "2024-06-01T18:07:37.643690Z",
     "iopub.status.busy": "2024-06-01T18:07:37.643281Z",
     "iopub.status.idle": "2024-06-01T18:07:37.658433Z",
     "shell.execute_reply": "2024-06-01T18:07:37.657215Z"
    },
    "papermill": {
     "duration": 0.028162,
     "end_time": "2024-06-01T18:07:37.660807",
     "exception": false,
     "start_time": "2024-06-01T18:07:37.632645",
     "status": "completed"
    },
    "tags": []
   },
   "outputs": [
    {
     "data": {
      "text/html": [
       "<div>\n",
       "<style scoped>\n",
       "    .dataframe tbody tr th:only-of-type {\n",
       "        vertical-align: middle;\n",
       "    }\n",
       "\n",
       "    .dataframe tbody tr th {\n",
       "        vertical-align: top;\n",
       "    }\n",
       "\n",
       "    .dataframe thead th {\n",
       "        text-align: right;\n",
       "    }\n",
       "</style>\n",
       "<table border=\"1\" class=\"dataframe\">\n",
       "  <thead>\n",
       "    <tr style=\"text-align: right;\">\n",
       "      <th></th>\n",
       "      <th>Project Code</th>\n",
       "      <th>Title</th>\n",
       "      <th>Commitment in U.A</th>\n",
       "      <th>Country</th>\n",
       "      <th>Starting Date</th>\n",
       "      <th>Status</th>\n",
       "      <th>Source of Financing</th>\n",
       "      <th>Sector</th>\n",
       "      <th>Sovereign</th>\n",
       "      <th>Starting year</th>\n",
       "    </tr>\n",
       "  </thead>\n",
       "  <tbody>\n",
       "    <tr>\n",
       "      <th>0</th>\n",
       "      <td>P-MG-H00-002</td>\n",
       "      <td>Madagascar - Industrialisation and Financial S...</td>\n",
       "      <td>12,080,000.00</td>\n",
       "      <td>Madagascar</td>\n",
       "      <td>2020-10-28</td>\n",
       "      <td>Approved</td>\n",
       "      <td>African Development Fund</td>\n",
       "      <td>Finance</td>\n",
       "      <td>Sovereign</td>\n",
       "      <td>2020</td>\n",
       "    </tr>\n",
       "    <tr>\n",
       "      <th>1</th>\n",
       "      <td>P-Z1-H00-063</td>\n",
       "      <td>Multinational - Domestic debt markets developm...</td>\n",
       "      <td>1,500,000.00</td>\n",
       "      <td>Multinational</td>\n",
       "      <td>2020-10-13</td>\n",
       "      <td>Implementation</td>\n",
       "      <td>Fragile States Facility</td>\n",
       "      <td>Finance</td>\n",
       "      <td>Sovereign</td>\n",
       "      <td>2020</td>\n",
       "    </tr>\n",
       "    <tr>\n",
       "      <th>2</th>\n",
       "      <td>P-MG-HAZ-001</td>\n",
       "      <td>Madagascar - SME Business Linkages Program</td>\n",
       "      <td>1,000,000.00</td>\n",
       "      <td>Madagascar</td>\n",
       "      <td>2020-05-15</td>\n",
       "      <td>Implementation</td>\n",
       "      <td>Fragile States Facility</td>\n",
       "      <td>Finance</td>\n",
       "      <td>Sovereign</td>\n",
       "      <td>2020</td>\n",
       "    </tr>\n",
       "    <tr>\n",
       "      <th>3</th>\n",
       "      <td>P-MU-H00-004</td>\n",
       "      <td>Mauritius - Stock Exchange Mauritius (SEM) Pro...</td>\n",
       "      <td>430,000.00</td>\n",
       "      <td>Mauritius</td>\n",
       "      <td>2020-04-27</td>\n",
       "      <td>Implementation</td>\n",
       "      <td>Middle Income Countries Fund</td>\n",
       "      <td>Finance</td>\n",
       "      <td>Sovereign</td>\n",
       "      <td>2020</td>\n",
       "    </tr>\n",
       "    <tr>\n",
       "      <th>4</th>\n",
       "      <td>P-AO-HAB-009</td>\n",
       "      <td>Angola - Line of Credit to « Banco Millennium ...</td>\n",
       "      <td>23,415,605.04</td>\n",
       "      <td>Angola</td>\n",
       "      <td>2020-04-15</td>\n",
       "      <td>Approved</td>\n",
       "      <td>African Development Bank</td>\n",
       "      <td>Finance</td>\n",
       "      <td>Non Sovereign</td>\n",
       "      <td>2020</td>\n",
       "    </tr>\n",
       "  </tbody>\n",
       "</table>\n",
       "</div>"
      ],
      "text/plain": [
       "   Project Code                                              Title  \\\n",
       "0  P-MG-H00-002  Madagascar - Industrialisation and Financial S...   \n",
       "1  P-Z1-H00-063  Multinational - Domestic debt markets developm...   \n",
       "2  P-MG-HAZ-001         Madagascar - SME Business Linkages Program   \n",
       "3  P-MU-H00-004  Mauritius - Stock Exchange Mauritius (SEM) Pro...   \n",
       "4  P-AO-HAB-009  Angola - Line of Credit to « Banco Millennium ...   \n",
       "\n",
       "  Commitment in U.A        Country Starting Date          Status  \\\n",
       "0     12,080,000.00     Madagascar    2020-10-28        Approved   \n",
       "1      1,500,000.00  Multinational    2020-10-13  Implementation   \n",
       "2      1,000,000.00     Madagascar    2020-05-15  Implementation   \n",
       "3        430,000.00      Mauritius    2020-04-27  Implementation   \n",
       "4     23,415,605.04         Angola    2020-04-15        Approved   \n",
       "\n",
       "            Source of Financing   Sector      Sovereign  Starting year  \n",
       "0      African Development Fund  Finance      Sovereign           2020  \n",
       "1       Fragile States Facility  Finance      Sovereign           2020  \n",
       "2       Fragile States Facility  Finance      Sovereign           2020  \n",
       "3  Middle Income Countries Fund  Finance      Sovereign           2020  \n",
       "4      African Development Bank  Finance  Non Sovereign           2020  "
      ]
     },
     "execution_count": 15,
     "metadata": {},
     "output_type": "execute_result"
    }
   ],
   "source": [
    "data.head()"
   ]
  },
  {
   "cell_type": "code",
   "execution_count": 16,
   "id": "71ab7121",
   "metadata": {
    "execution": {
     "iopub.execute_input": "2024-06-01T18:07:37.682945Z",
     "iopub.status.busy": "2024-06-01T18:07:37.682544Z",
     "iopub.status.idle": "2024-06-01T18:07:38.347731Z",
     "shell.execute_reply": "2024-06-01T18:07:38.346551Z"
    },
    "papermill": {
     "duration": 0.679232,
     "end_time": "2024-06-01T18:07:38.350037",
     "exception": false,
     "start_time": "2024-06-01T18:07:37.670805",
     "status": "completed"
    },
    "tags": []
   },
   "outputs": [
    {
     "data": {
      "image/png": "[encoded data removed]",
      "text/plain": [
       "<Figure size 1600x650 with 2 Axes>"
      ]
     },
     "metadata": {},
     "output_type": "display_data"
    }
   ],
   "source": [
    "data.hist(figsize=(16,6.5))\n",
    "plt.show()"
   ]
  },
  {
   "cell_type": "code",
   "execution_count": 17,
   "id": "d36024ab",
   "metadata": {
    "execution": {
     "iopub.execute_input": "2024-06-01T18:07:38.372185Z",
     "iopub.status.busy": "2024-06-01T18:07:38.371823Z",
     "iopub.status.idle": "2024-06-01T18:07:38.377681Z",
     "shell.execute_reply": "2024-06-01T18:07:38.376615Z"
    },
    "papermill": {
     "duration": 0.019344,
     "end_time": "2024-06-01T18:07:38.379860",
     "exception": false,
     "start_time": "2024-06-01T18:07:38.360516",
     "status": "completed"
    },
    "tags": []
   },
   "outputs": [],
   "source": [
    "data1=data[data['Starting year']==2019]"
   ]
  },
  {
   "cell_type": "code",
   "execution_count": 18,
   "id": "e590337f",
   "metadata": {
    "execution": {
     "iopub.execute_input": "2024-06-01T18:07:38.402045Z",
     "iopub.status.busy": "2024-06-01T18:07:38.401640Z",
     "iopub.status.idle": "2024-06-01T18:07:38.417552Z",
     "shell.execute_reply": "2024-06-01T18:07:38.416460Z"
    },
    "papermill": {
     "duration": 0.029676,
     "end_time": "2024-06-01T18:07:38.419730",
     "exception": false,
     "start_time": "2024-06-01T18:07:38.390054",
     "status": "completed"
    },
    "tags": []
   },
   "outputs": [
    {
     "data": {
      "text/html": [
       "<div>\n",
       "<style scoped>\n",
       "    .dataframe tbody tr th:only-of-type {\n",
       "        vertical-align: middle;\n",
       "    }\n",
       "\n",
       "    .dataframe tbody tr th {\n",
       "        vertical-align: top;\n",
       "    }\n",
       "\n",
       "    .dataframe thead th {\n",
       "        text-align: right;\n",
       "    }\n",
       "</style>\n",
       "<table border=\"1\" class=\"dataframe\">\n",
       "  <thead>\n",
       "    <tr style=\"text-align: right;\">\n",
       "      <th></th>\n",
       "      <th>Project Code</th>\n",
       "      <th>Title</th>\n",
       "      <th>Commitment in U.A</th>\n",
       "      <th>Country</th>\n",
       "      <th>Starting Date</th>\n",
       "      <th>Status</th>\n",
       "      <th>Source of Financing</th>\n",
       "      <th>Sector</th>\n",
       "      <th>Sovereign</th>\n",
       "      <th>Starting year</th>\n",
       "    </tr>\n",
       "  </thead>\n",
       "  <tbody>\n",
       "    <tr>\n",
       "      <th>10</th>\n",
       "      <td>P-ML-HZ0-001</td>\n",
       "      <td>Mali - African Trade Insurance Agency (ATI): C...</td>\n",
       "      <td>7,290,000.00</td>\n",
       "      <td>Mali</td>\n",
       "      <td>2019-12-05</td>\n",
       "      <td>Approved</td>\n",
       "      <td>African Development Fund</td>\n",
       "      <td>Finance</td>\n",
       "      <td>Sovereign</td>\n",
       "      <td>2019</td>\n",
       "    </tr>\n",
       "    <tr>\n",
       "      <th>11</th>\n",
       "      <td>P-KE-HAB-030</td>\n",
       "      <td>Kenya - Equity Group Holdings Plc</td>\n",
       "      <td>73,173,765.74</td>\n",
       "      <td>Kenya</td>\n",
       "      <td>2019-11-28</td>\n",
       "      <td>Approved</td>\n",
       "      <td>African Development Bank</td>\n",
       "      <td>Finance</td>\n",
       "      <td>Non Sovereign</td>\n",
       "      <td>2019</td>\n",
       "    </tr>\n",
       "    <tr>\n",
       "      <th>12</th>\n",
       "      <td>P-MA-HAA-012</td>\n",
       "      <td>Morocco - \"Fonds dEquipement Communal (FEC)\"</td>\n",
       "      <td>79,781,717.22</td>\n",
       "      <td>Morocco</td>\n",
       "      <td>2019-11-28</td>\n",
       "      <td>Approved</td>\n",
       "      <td>African Development Bank</td>\n",
       "      <td>Finance</td>\n",
       "      <td>Non Sovereign</td>\n",
       "      <td>2019</td>\n",
       "    </tr>\n",
       "    <tr>\n",
       "      <th>13</th>\n",
       "      <td>P-Z1-HB0-064</td>\n",
       "      <td>Multinational  Project for Digitisation of Go...</td>\n",
       "      <td>1,258,000.00</td>\n",
       "      <td>Multinational</td>\n",
       "      <td>2019-11-25</td>\n",
       "      <td>Implementation</td>\n",
       "      <td>Fragile States Facility</td>\n",
       "      <td>Finance</td>\n",
       "      <td>Sovereign</td>\n",
       "      <td>2019</td>\n",
       "    </tr>\n",
       "    <tr>\n",
       "      <th>14</th>\n",
       "      <td>P-Z1-HB0-071</td>\n",
       "      <td>SIERRA LEONE - Government Payments Digitizatio...</td>\n",
       "      <td>279,000.00</td>\n",
       "      <td>Multinational</td>\n",
       "      <td>2019-11-25</td>\n",
       "      <td>Approved</td>\n",
       "      <td>Fragile States Facility</td>\n",
       "      <td>Finance</td>\n",
       "      <td>Sovereign</td>\n",
       "      <td>2019</td>\n",
       "    </tr>\n",
       "  </tbody>\n",
       "</table>\n",
       "</div>"
      ],
      "text/plain": [
       "    Project Code                                              Title  \\\n",
       "10  P-ML-HZ0-001  Mali - African Trade Insurance Agency (ATI): C...   \n",
       "11  P-KE-HAB-030                  Kenya - Equity Group Holdings Plc   \n",
       "12  P-MA-HAA-012      Morocco - \"Fonds dEquipement Communal (FEC)\"   \n",
       "13  P-Z1-HB0-064  Multinational  Project for Digitisation of Go...   \n",
       "14  P-Z1-HB0-071  SIERRA LEONE - Government Payments Digitizatio...   \n",
       "\n",
       "   Commitment in U.A        Country Starting Date          Status  \\\n",
       "10      7,290,000.00           Mali    2019-12-05        Approved   \n",
       "11     73,173,765.74          Kenya    2019-11-28        Approved   \n",
       "12     79,781,717.22        Morocco    2019-11-28        Approved   \n",
       "13      1,258,000.00  Multinational    2019-11-25  Implementation   \n",
       "14        279,000.00  Multinational    2019-11-25        Approved   \n",
       "\n",
       "         Source of Financing   Sector      Sovereign  Starting year  \n",
       "10  African Development Fund  Finance      Sovereign           2019  \n",
       "11  African Development Bank  Finance  Non Sovereign           2019  \n",
       "12  African Development Bank  Finance  Non Sovereign           2019  \n",
       "13   Fragile States Facility  Finance      Sovereign           2019  \n",
       "14   Fragile States Facility  Finance      Sovereign           2019  "
      ]
     },
     "execution_count": 18,
     "metadata": {},
     "output_type": "execute_result"
    }
   ],
   "source": [
    "data1.head()"
   ]
  },
  {
   "cell_type": "code",
   "execution_count": 19,
   "id": "6d714a75",
   "metadata": {
    "execution": {
     "iopub.execute_input": "2024-06-01T18:07:38.442357Z",
     "iopub.status.busy": "2024-06-01T18:07:38.441706Z",
     "iopub.status.idle": "2024-06-01T18:07:38.458335Z",
     "shell.execute_reply": "2024-06-01T18:07:38.457192Z"
    },
    "papermill": {
     "duration": 0.030516,
     "end_time": "2024-06-01T18:07:38.460649",
     "exception": false,
     "start_time": "2024-06-01T18:07:38.430133",
     "status": "completed"
    },
    "tags": []
   },
   "outputs": [
    {
     "data": {
      "text/html": [
       "<div>\n",
       "<style scoped>\n",
       "    .dataframe tbody tr th:only-of-type {\n",
       "        vertical-align: middle;\n",
       "    }\n",
       "\n",
       "    .dataframe tbody tr th {\n",
       "        vertical-align: top;\n",
       "    }\n",
       "\n",
       "    .dataframe thead th {\n",
       "        text-align: right;\n",
       "    }\n",
       "</style>\n",
       "<table border=\"1\" class=\"dataframe\">\n",
       "  <thead>\n",
       "    <tr style=\"text-align: right;\">\n",
       "      <th></th>\n",
       "      <th>Commitment in U.A</th>\n",
       "      <th>Country</th>\n",
       "      <th>Starting year</th>\n",
       "    </tr>\n",
       "  </thead>\n",
       "  <tbody>\n",
       "    <tr>\n",
       "      <th>10</th>\n",
       "      <td>7,290,000.00</td>\n",
       "      <td>Mali</td>\n",
       "      <td>2019</td>\n",
       "    </tr>\n",
       "    <tr>\n",
       "      <th>11</th>\n",
       "      <td>73,173,765.74</td>\n",
       "      <td>Kenya</td>\n",
       "      <td>2019</td>\n",
       "    </tr>\n",
       "    <tr>\n",
       "      <th>12</th>\n",
       "      <td>79,781,717.22</td>\n",
       "      <td>Morocco</td>\n",
       "      <td>2019</td>\n",
       "    </tr>\n",
       "    <tr>\n",
       "      <th>13</th>\n",
       "      <td>1,258,000.00</td>\n",
       "      <td>Multinational</td>\n",
       "      <td>2019</td>\n",
       "    </tr>\n",
       "    <tr>\n",
       "      <th>14</th>\n",
       "      <td>279,000.00</td>\n",
       "      <td>Multinational</td>\n",
       "      <td>2019</td>\n",
       "    </tr>\n",
       "    <tr>\n",
       "      <th>15</th>\n",
       "      <td>463,000.00</td>\n",
       "      <td>Multinational</td>\n",
       "      <td>2019</td>\n",
       "    </tr>\n",
       "    <tr>\n",
       "      <th>16</th>\n",
       "      <td>783,328.00</td>\n",
       "      <td>Multinational</td>\n",
       "      <td>2019</td>\n",
       "    </tr>\n",
       "    <tr>\n",
       "      <th>17</th>\n",
       "      <td>5,853,901.26</td>\n",
       "      <td>Guinea</td>\n",
       "      <td>2019</td>\n",
       "    </tr>\n",
       "    <tr>\n",
       "      <th>18</th>\n",
       "      <td>11,967,257.58</td>\n",
       "      <td>Senegal</td>\n",
       "      <td>2019</td>\n",
       "    </tr>\n",
       "    <tr>\n",
       "      <th>20</th>\n",
       "      <td>5,666,565.14</td>\n",
       "      <td>Kenya</td>\n",
       "      <td>2019</td>\n",
       "    </tr>\n",
       "    <tr>\n",
       "      <th>21</th>\n",
       "      <td>10,244,327.20</td>\n",
       "      <td>Rwanda</td>\n",
       "      <td>2019</td>\n",
       "    </tr>\n",
       "    <tr>\n",
       "      <th>22</th>\n",
       "      <td>36,586,882.87</td>\n",
       "      <td>Multinational</td>\n",
       "      <td>2019</td>\n",
       "    </tr>\n",
       "    <tr>\n",
       "      <th>23</th>\n",
       "      <td>146,347,531.48</td>\n",
       "      <td>Multinational</td>\n",
       "      <td>2019</td>\n",
       "    </tr>\n",
       "    <tr>\n",
       "      <th>24</th>\n",
       "      <td>36,586,882.87</td>\n",
       "      <td>Multinational</td>\n",
       "      <td>2019</td>\n",
       "    </tr>\n",
       "    <tr>\n",
       "      <th>25</th>\n",
       "      <td>79,781,717.22</td>\n",
       "      <td>Multinational</td>\n",
       "      <td>2019</td>\n",
       "    </tr>\n",
       "    <tr>\n",
       "      <th>26</th>\n",
       "      <td>4,800,000.00</td>\n",
       "      <td>Multinational</td>\n",
       "      <td>2019</td>\n",
       "    </tr>\n",
       "    <tr>\n",
       "      <th>27</th>\n",
       "      <td>21,952,129.72</td>\n",
       "      <td>Mozambique</td>\n",
       "      <td>2019</td>\n",
       "    </tr>\n",
       "    <tr>\n",
       "      <th>28</th>\n",
       "      <td>84,148,876.19</td>\n",
       "      <td>Tunisia</td>\n",
       "      <td>2019</td>\n",
       "    </tr>\n",
       "    <tr>\n",
       "      <th>29</th>\n",
       "      <td>1,500,000.00</td>\n",
       "      <td>Madagascar</td>\n",
       "      <td>2019</td>\n",
       "    </tr>\n",
       "    <tr>\n",
       "      <th>30</th>\n",
       "      <td>12,593,612.52</td>\n",
       "      <td>Tunisia</td>\n",
       "      <td>2019</td>\n",
       "    </tr>\n",
       "    <tr>\n",
       "      <th>31</th>\n",
       "      <td>29,385,095.88</td>\n",
       "      <td>Tunisia</td>\n",
       "      <td>2019</td>\n",
       "    </tr>\n",
       "    <tr>\n",
       "      <th>32</th>\n",
       "      <td>75,461,573.29</td>\n",
       "      <td>Kenya</td>\n",
       "      <td>2019</td>\n",
       "    </tr>\n",
       "    <tr>\n",
       "      <th>33</th>\n",
       "      <td>95,319,040.77</td>\n",
       "      <td>Tunisia</td>\n",
       "      <td>2019</td>\n",
       "    </tr>\n",
       "    <tr>\n",
       "      <th>34</th>\n",
       "      <td>57,998,332.55</td>\n",
       "      <td>Botswana</td>\n",
       "      <td>2019</td>\n",
       "    </tr>\n",
       "    <tr>\n",
       "      <th>35</th>\n",
       "      <td>10,717,644.69</td>\n",
       "      <td>Nigeria</td>\n",
       "      <td>2019</td>\n",
       "    </tr>\n",
       "    <tr>\n",
       "      <th>36</th>\n",
       "      <td>900,000.00</td>\n",
       "      <td>Multinational</td>\n",
       "      <td>2019</td>\n",
       "    </tr>\n",
       "  </tbody>\n",
       "</table>\n",
       "</div>"
      ],
      "text/plain": [
       "   Commitment in U.A        Country  Starting year\n",
       "10      7,290,000.00           Mali           2019\n",
       "11     73,173,765.74          Kenya           2019\n",
       "12     79,781,717.22        Morocco           2019\n",
       "13      1,258,000.00  Multinational           2019\n",
       "14        279,000.00  Multinational           2019\n",
       "15        463,000.00  Multinational           2019\n",
       "16        783,328.00  Multinational           2019\n",
       "17      5,853,901.26         Guinea           2019\n",
       "18     11,967,257.58        Senegal           2019\n",
       "20      5,666,565.14          Kenya           2019\n",
       "21     10,244,327.20         Rwanda           2019\n",
       "22     36,586,882.87  Multinational           2019\n",
       "23    146,347,531.48  Multinational           2019\n",
       "24     36,586,882.87  Multinational           2019\n",
       "25     79,781,717.22  Multinational           2019\n",
       "26      4,800,000.00  Multinational           2019\n",
       "27     21,952,129.72     Mozambique           2019\n",
       "28     84,148,876.19        Tunisia           2019\n",
       "29      1,500,000.00     Madagascar           2019\n",
       "30     12,593,612.52        Tunisia           2019\n",
       "31     29,385,095.88        Tunisia           2019\n",
       "32     75,461,573.29          Kenya           2019\n",
       "33     95,319,040.77        Tunisia           2019\n",
       "34     57,998,332.55       Botswana           2019\n",
       "35     10,717,644.69        Nigeria           2019\n",
       "36        900,000.00  Multinational           2019"
      ]
     },
     "execution_count": 19,
     "metadata": {},
     "output_type": "execute_result"
    }
   ],
   "source": [
    "data1= data1.drop(['Project Code','Title','Starting Date','Status','Sector','Source of Financing','Sovereign'], axis =1)\n",
    "data1"
   ]
  },
  {
   "cell_type": "code",
   "execution_count": 20,
   "id": "24566ed3",
   "metadata": {
    "execution": {
     "iopub.execute_input": "2024-06-01T18:07:38.484364Z",
     "iopub.status.busy": "2024-06-01T18:07:38.483472Z",
     "iopub.status.idle": "2024-06-01T18:07:38.494816Z",
     "shell.execute_reply": "2024-06-01T18:07:38.493766Z"
    },
    "papermill": {
     "duration": 0.025709,
     "end_time": "2024-06-01T18:07:38.497236",
     "exception": false,
     "start_time": "2024-06-01T18:07:38.471527",
     "status": "completed"
    },
    "tags": []
   },
   "outputs": [
    {
     "data": {
      "text/html": [
       "<div>\n",
       "<style scoped>\n",
       "    .dataframe tbody tr th:only-of-type {\n",
       "        vertical-align: middle;\n",
       "    }\n",
       "\n",
       "    .dataframe tbody tr th {\n",
       "        vertical-align: top;\n",
       "    }\n",
       "\n",
       "    .dataframe thead th {\n",
       "        text-align: right;\n",
       "    }\n",
       "</style>\n",
       "<table border=\"1\" class=\"dataframe\">\n",
       "  <thead>\n",
       "    <tr style=\"text-align: right;\">\n",
       "      <th></th>\n",
       "      <th>Commitment in U.A</th>\n",
       "      <th>Country</th>\n",
       "      <th>Starting year</th>\n",
       "    </tr>\n",
       "  </thead>\n",
       "  <tbody>\n",
       "    <tr>\n",
       "      <th>10</th>\n",
       "      <td>7290000.00</td>\n",
       "      <td>Mali</td>\n",
       "      <td>2019</td>\n",
       "    </tr>\n",
       "    <tr>\n",
       "      <th>11</th>\n",
       "      <td>73173765.74</td>\n",
       "      <td>Kenya</td>\n",
       "      <td>2019</td>\n",
       "    </tr>\n",
       "    <tr>\n",
       "      <th>12</th>\n",
       "      <td>79781717.22</td>\n",
       "      <td>Morocco</td>\n",
       "      <td>2019</td>\n",
       "    </tr>\n",
       "    <tr>\n",
       "      <th>13</th>\n",
       "      <td>1258000.00</td>\n",
       "      <td>Multinational</td>\n",
       "      <td>2019</td>\n",
       "    </tr>\n",
       "    <tr>\n",
       "      <th>14</th>\n",
       "      <td>279000.00</td>\n",
       "      <td>Multinational</td>\n",
       "      <td>2019</td>\n",
       "    </tr>\n",
       "  </tbody>\n",
       "</table>\n",
       "</div>"
      ],
      "text/plain": [
       "   Commitment in U.A        Country  Starting year\n",
       "10        7290000.00           Mali           2019\n",
       "11       73173765.74          Kenya           2019\n",
       "12       79781717.22        Morocco           2019\n",
       "13        1258000.00  Multinational           2019\n",
       "14         279000.00  Multinational           2019"
      ]
     },
     "execution_count": 20,
     "metadata": {},
     "output_type": "execute_result"
    }
   ],
   "source": [
    "data1['Commitment in U.A']=data1['Commitment in U.A'].str.replace(r',','')\n",
    "data1.head()"
   ]
  },
  {
   "cell_type": "code",
   "execution_count": 21,
   "id": "43e4e8e4",
   "metadata": {
    "execution": {
     "iopub.execute_input": "2024-06-01T18:07:38.521562Z",
     "iopub.status.busy": "2024-06-01T18:07:38.521141Z",
     "iopub.status.idle": "2024-06-01T18:07:38.533430Z",
     "shell.execute_reply": "2024-06-01T18:07:38.532359Z"
    },
    "papermill": {
     "duration": 0.027019,
     "end_time": "2024-06-01T18:07:38.535753",
     "exception": false,
     "start_time": "2024-06-01T18:07:38.508734",
     "status": "completed"
    },
    "tags": []
   },
   "outputs": [
    {
     "data": {
      "text/html": [
       "<div>\n",
       "<style scoped>\n",
       "    .dataframe tbody tr th:only-of-type {\n",
       "        vertical-align: middle;\n",
       "    }\n",
       "\n",
       "    .dataframe tbody tr th {\n",
       "        vertical-align: top;\n",
       "    }\n",
       "\n",
       "    .dataframe thead th {\n",
       "        text-align: right;\n",
       "    }\n",
       "</style>\n",
       "<table border=\"1\" class=\"dataframe\">\n",
       "  <thead>\n",
       "    <tr style=\"text-align: right;\">\n",
       "      <th></th>\n",
       "      <th>Commitment in U.A</th>\n",
       "      <th>Country</th>\n",
       "      <th>Starting year</th>\n",
       "    </tr>\n",
       "  </thead>\n",
       "  <tbody>\n",
       "    <tr>\n",
       "      <th>10</th>\n",
       "      <td>7290000.00</td>\n",
       "      <td>Mali</td>\n",
       "      <td>2019</td>\n",
       "    </tr>\n",
       "    <tr>\n",
       "      <th>11</th>\n",
       "      <td>73173765.74</td>\n",
       "      <td>Kenya</td>\n",
       "      <td>2019</td>\n",
       "    </tr>\n",
       "    <tr>\n",
       "      <th>12</th>\n",
       "      <td>79781717.22</td>\n",
       "      <td>Morocco</td>\n",
       "      <td>2019</td>\n",
       "    </tr>\n",
       "    <tr>\n",
       "      <th>13</th>\n",
       "      <td>1258000.00</td>\n",
       "      <td>Multinational</td>\n",
       "      <td>2019</td>\n",
       "    </tr>\n",
       "    <tr>\n",
       "      <th>14</th>\n",
       "      <td>279000.00</td>\n",
       "      <td>Multinational</td>\n",
       "      <td>2019</td>\n",
       "    </tr>\n",
       "  </tbody>\n",
       "</table>\n",
       "</div>"
      ],
      "text/plain": [
       "    Commitment in U.A        Country  Starting year\n",
       "10         7290000.00           Mali           2019\n",
       "11        73173765.74          Kenya           2019\n",
       "12        79781717.22        Morocco           2019\n",
       "13         1258000.00  Multinational           2019\n",
       "14          279000.00  Multinational           2019"
      ]
     },
     "execution_count": 21,
     "metadata": {},
     "output_type": "execute_result"
    }
   ],
   "source": [
    "#convert str to float\n",
    "data1['Commitment in U.A']=data1['Commitment in U.A'].apply(pd.to_numeric)\n",
    "data1.head()"
   ]
  },
  {
   "cell_type": "code",
   "execution_count": 22,
   "id": "597fce88",
   "metadata": {
    "execution": {
     "iopub.execute_input": "2024-06-01T18:07:38.560726Z",
     "iopub.status.busy": "2024-06-01T18:07:38.559511Z",
     "iopub.status.idle": "2024-06-01T18:07:38.570981Z",
     "shell.execute_reply": "2024-06-01T18:07:38.569687Z"
    },
    "papermill": {
     "duration": 0.026342,
     "end_time": "2024-06-01T18:07:38.573216",
     "exception": false,
     "start_time": "2024-06-01T18:07:38.546874",
     "status": "completed"
    },
    "tags": []
   },
   "outputs": [
    {
     "name": "stdout",
     "output_type": "stream",
     "text": [
      "<class 'pandas.core.frame.DataFrame'>\n",
      "Index: 26 entries, 10 to 36\n",
      "Data columns (total 3 columns):\n",
      " #   Column             Non-Null Count  Dtype  \n",
      "---  ------             --------------  -----  \n",
      " 0   Commitment in U.A  26 non-null     float64\n",
      " 1   Country            26 non-null     object \n",
      " 2   Starting year      26 non-null     int32  \n",
      "dtypes: float64(1), int32(1), object(1)\n",
      "memory usage: 728.0+ bytes\n"
     ]
    }
   ],
   "source": [
    "data1.info()"
   ]
  },
  {
   "cell_type": "markdown",
   "id": "c58db1be",
   "metadata": {
    "papermill": {
     "duration": 0.011103,
     "end_time": "2024-06-01T18:07:38.596520",
     "exception": false,
     "start_time": "2024-06-01T18:07:38.585417",
     "status": "completed"
    },
    "tags": []
   },
   "source": [
    "**Visualization**"
   ]
  },
  {
   "cell_type": "code",
   "execution_count": 23,
   "id": "b7d2eaea",
   "metadata": {
    "execution": {
     "iopub.execute_input": "2024-06-01T18:07:38.621087Z",
     "iopub.status.busy": "2024-06-01T18:07:38.620438Z",
     "iopub.status.idle": "2024-06-01T18:07:39.127789Z",
     "shell.execute_reply": "2024-06-01T18:07:39.126579Z"
    },
    "papermill": {
     "duration": 0.522334,
     "end_time": "2024-06-01T18:07:39.130123",
     "exception": false,
     "start_time": "2024-06-01T18:07:38.607789",
     "status": "completed"
    },
    "tags": []
   },
   "outputs": [
    {
     "data": {
      "text/plain": [
       "<Axes: xlabel='Country'>"
      ]
     },
     "execution_count": 23,
     "metadata": {},
     "output_type": "execute_result"
    },
    {
     "data": {
      "image/png": "[encoded data removed]",
      "text/plain": [
       "<Figure size 800x800 with 1 Axes>"
      ]
     },
     "metadata": {},
     "output_type": "display_data"
    }
   ],
   "source": [
    "data1.plot(x=\"Country\", y=\"Commitment in U.A\",kind=\"bar\" ,figsize=(8,8))"
   ]
  },
  {
   "cell_type": "code",
   "execution_count": 24,
   "id": "ab61d1f2",
   "metadata": {
    "execution": {
     "iopub.execute_input": "2024-06-01T18:07:39.158352Z",
     "iopub.status.busy": "2024-06-01T18:07:39.157658Z",
     "iopub.status.idle": "2024-06-01T18:07:39.168748Z",
     "shell.execute_reply": "2024-06-01T18:07:39.167203Z"
    },
    "papermill": {
     "duration": 0.028758,
     "end_time": "2024-06-01T18:07:39.171092",
     "exception": false,
     "start_time": "2024-06-01T18:07:39.142334",
     "status": "completed"
    },
    "tags": []
   },
   "outputs": [
    {
     "data": {
      "text/plain": [
       "890840182.19"
      ]
     },
     "execution_count": 24,
     "metadata": {},
     "output_type": "execute_result"
    }
   ],
   "source": [
    "sum_of_finance=data1['Commitment in U.A'].sum()\n",
    "sum_of_finance"
   ]
  },
  {
   "cell_type": "code",
   "execution_count": 25,
   "id": "0aec685d",
   "metadata": {
    "execution": {
     "iopub.execute_input": "2024-06-01T18:07:39.197734Z",
     "iopub.status.busy": "2024-06-01T18:07:39.197031Z",
     "iopub.status.idle": "2024-06-01T18:07:39.214773Z",
     "shell.execute_reply": "2024-06-01T18:07:39.213686Z"
    },
    "papermill": {
     "duration": 0.033506,
     "end_time": "2024-06-01T18:07:39.216955",
     "exception": false,
     "start_time": "2024-06-01T18:07:39.183449",
     "status": "completed"
    },
    "tags": []
   },
   "outputs": [
    {
     "data": {
      "text/html": [
       "<div>\n",
       "<style scoped>\n",
       "    .dataframe tbody tr th:only-of-type {\n",
       "        vertical-align: middle;\n",
       "    }\n",
       "\n",
       "    .dataframe tbody tr th {\n",
       "        vertical-align: top;\n",
       "    }\n",
       "\n",
       "    .dataframe thead th {\n",
       "        text-align: right;\n",
       "    }\n",
       "</style>\n",
       "<table border=\"1\" class=\"dataframe\">\n",
       "  <thead>\n",
       "    <tr style=\"text-align: right;\">\n",
       "      <th></th>\n",
       "      <th>Commitment in U.A</th>\n",
       "      <th>Country</th>\n",
       "      <th>Starting year</th>\n",
       "    </tr>\n",
       "  </thead>\n",
       "  <tbody>\n",
       "    <tr>\n",
       "      <th>13</th>\n",
       "      <td>1.258000e+06</td>\n",
       "      <td>Multinational</td>\n",
       "      <td>2019</td>\n",
       "    </tr>\n",
       "    <tr>\n",
       "      <th>14</th>\n",
       "      <td>2.790000e+05</td>\n",
       "      <td>Multinational</td>\n",
       "      <td>2019</td>\n",
       "    </tr>\n",
       "    <tr>\n",
       "      <th>15</th>\n",
       "      <td>4.630000e+05</td>\n",
       "      <td>Multinational</td>\n",
       "      <td>2019</td>\n",
       "    </tr>\n",
       "    <tr>\n",
       "      <th>16</th>\n",
       "      <td>7.833280e+05</td>\n",
       "      <td>Multinational</td>\n",
       "      <td>2019</td>\n",
       "    </tr>\n",
       "    <tr>\n",
       "      <th>22</th>\n",
       "      <td>3.658688e+07</td>\n",
       "      <td>Multinational</td>\n",
       "      <td>2019</td>\n",
       "    </tr>\n",
       "    <tr>\n",
       "      <th>23</th>\n",
       "      <td>1.463475e+08</td>\n",
       "      <td>Multinational</td>\n",
       "      <td>2019</td>\n",
       "    </tr>\n",
       "    <tr>\n",
       "      <th>24</th>\n",
       "      <td>3.658688e+07</td>\n",
       "      <td>Multinational</td>\n",
       "      <td>2019</td>\n",
       "    </tr>\n",
       "    <tr>\n",
       "      <th>25</th>\n",
       "      <td>7.978172e+07</td>\n",
       "      <td>Multinational</td>\n",
       "      <td>2019</td>\n",
       "    </tr>\n",
       "    <tr>\n",
       "      <th>26</th>\n",
       "      <td>4.800000e+06</td>\n",
       "      <td>Multinational</td>\n",
       "      <td>2019</td>\n",
       "    </tr>\n",
       "    <tr>\n",
       "      <th>36</th>\n",
       "      <td>9.000000e+05</td>\n",
       "      <td>Multinational</td>\n",
       "      <td>2019</td>\n",
       "    </tr>\n",
       "  </tbody>\n",
       "</table>\n",
       "</div>"
      ],
      "text/plain": [
       "    Commitment in U.A        Country  Starting year\n",
       "13       1.258000e+06  Multinational           2019\n",
       "14       2.790000e+05  Multinational           2019\n",
       "15       4.630000e+05  Multinational           2019\n",
       "16       7.833280e+05  Multinational           2019\n",
       "22       3.658688e+07  Multinational           2019\n",
       "23       1.463475e+08  Multinational           2019\n",
       "24       3.658688e+07  Multinational           2019\n",
       "25       7.978172e+07  Multinational           2019\n",
       "26       4.800000e+06  Multinational           2019\n",
       "36       9.000000e+05  Multinational           2019"
      ]
     },
     "execution_count": 25,
     "metadata": {},
     "output_type": "execute_result"
    }
   ],
   "source": [
    "f_multinational=data1.query('Country==\"Multinational\"')\n",
    "f_multinational"
   ]
  },
  {
   "cell_type": "code",
   "execution_count": 26,
   "id": "c2773726",
   "metadata": {
    "execution": {
     "iopub.execute_input": "2024-06-01T18:07:39.243935Z",
     "iopub.status.busy": "2024-06-01T18:07:39.242876Z",
     "iopub.status.idle": "2024-06-01T18:07:39.260591Z",
     "shell.execute_reply": "2024-06-01T18:07:39.259449Z"
    },
    "papermill": {
     "duration": 0.033422,
     "end_time": "2024-06-01T18:07:39.262630",
     "exception": false,
     "start_time": "2024-06-01T18:07:39.229208",
     "status": "completed"
    },
    "tags": []
   },
   "outputs": [
    {
     "data": {
      "text/html": [
       "<div>\n",
       "<style scoped>\n",
       "    .dataframe tbody tr th:only-of-type {\n",
       "        vertical-align: middle;\n",
       "    }\n",
       "\n",
       "    .dataframe tbody tr th {\n",
       "        vertical-align: top;\n",
       "    }\n",
       "\n",
       "    .dataframe thead th {\n",
       "        text-align: right;\n",
       "    }\n",
       "</style>\n",
       "<table border=\"1\" class=\"dataframe\">\n",
       "  <thead>\n",
       "    <tr style=\"text-align: right;\">\n",
       "      <th></th>\n",
       "      <th>Commitment in U.A</th>\n",
       "      <th>Country</th>\n",
       "      <th>Starting year</th>\n",
       "    </tr>\n",
       "  </thead>\n",
       "  <tbody>\n",
       "    <tr>\n",
       "      <th>28</th>\n",
       "      <td>84148876.19</td>\n",
       "      <td>Tunisia</td>\n",
       "      <td>2019</td>\n",
       "    </tr>\n",
       "    <tr>\n",
       "      <th>30</th>\n",
       "      <td>12593612.52</td>\n",
       "      <td>Tunisia</td>\n",
       "      <td>2019</td>\n",
       "    </tr>\n",
       "    <tr>\n",
       "      <th>31</th>\n",
       "      <td>29385095.88</td>\n",
       "      <td>Tunisia</td>\n",
       "      <td>2019</td>\n",
       "    </tr>\n",
       "    <tr>\n",
       "      <th>33</th>\n",
       "      <td>95319040.77</td>\n",
       "      <td>Tunisia</td>\n",
       "      <td>2019</td>\n",
       "    </tr>\n",
       "  </tbody>\n",
       "</table>\n",
       "</div>"
      ],
      "text/plain": [
       "    Commitment in U.A  Country  Starting year\n",
       "28        84148876.19  Tunisia           2019\n",
       "30        12593612.52  Tunisia           2019\n",
       "31        29385095.88  Tunisia           2019\n",
       "33        95319040.77  Tunisia           2019"
      ]
     },
     "execution_count": 26,
     "metadata": {},
     "output_type": "execute_result"
    }
   ],
   "source": [
    "f_tunesia = data1.query('Country==\"Tunisia\"')\n",
    "f_tunesia"
   ]
  },
  {
   "cell_type": "code",
   "execution_count": 27,
   "id": "379e65b0",
   "metadata": {
    "execution": {
     "iopub.execute_input": "2024-06-01T18:07:39.290002Z",
     "iopub.status.busy": "2024-06-01T18:07:39.289235Z",
     "iopub.status.idle": "2024-06-01T18:07:39.303200Z",
     "shell.execute_reply": "2024-06-01T18:07:39.302129Z"
    },
    "papermill": {
     "duration": 0.030071,
     "end_time": "2024-06-01T18:07:39.305311",
     "exception": false,
     "start_time": "2024-06-01T18:07:39.275240",
     "status": "completed"
    },
    "tags": []
   },
   "outputs": [
    {
     "data": {
      "text/html": [
       "<div>\n",
       "<style scoped>\n",
       "    .dataframe tbody tr th:only-of-type {\n",
       "        vertical-align: middle;\n",
       "    }\n",
       "\n",
       "    .dataframe tbody tr th {\n",
       "        vertical-align: top;\n",
       "    }\n",
       "\n",
       "    .dataframe thead th {\n",
       "        text-align: right;\n",
       "    }\n",
       "</style>\n",
       "<table border=\"1\" class=\"dataframe\">\n",
       "  <thead>\n",
       "    <tr style=\"text-align: right;\">\n",
       "      <th></th>\n",
       "      <th>Commitment in U.A</th>\n",
       "      <th>Country</th>\n",
       "      <th>Starting year</th>\n",
       "    </tr>\n",
       "  </thead>\n",
       "  <tbody>\n",
       "    <tr>\n",
       "      <th>11</th>\n",
       "      <td>73173765.74</td>\n",
       "      <td>Kenya</td>\n",
       "      <td>2019</td>\n",
       "    </tr>\n",
       "    <tr>\n",
       "      <th>20</th>\n",
       "      <td>5666565.14</td>\n",
       "      <td>Kenya</td>\n",
       "      <td>2019</td>\n",
       "    </tr>\n",
       "    <tr>\n",
       "      <th>32</th>\n",
       "      <td>75461573.29</td>\n",
       "      <td>Kenya</td>\n",
       "      <td>2019</td>\n",
       "    </tr>\n",
       "  </tbody>\n",
       "</table>\n",
       "</div>"
      ],
      "text/plain": [
       "    Commitment in U.A Country  Starting year\n",
       "11        73173765.74   Kenya           2019\n",
       "20         5666565.14   Kenya           2019\n",
       "32        75461573.29   Kenya           2019"
      ]
     },
     "execution_count": 27,
     "metadata": {},
     "output_type": "execute_result"
    }
   ],
   "source": [
    "f_kenya = data1.query('Country ==\"Kenya\"')\n",
    "f_kenya"
   ]
  },
  {
   "cell_type": "code",
   "execution_count": 28,
   "id": "c91fbcd2",
   "metadata": {
    "execution": {
     "iopub.execute_input": "2024-06-01T18:07:39.336652Z",
     "iopub.status.busy": "2024-06-01T18:07:39.335763Z",
     "iopub.status.idle": "2024-06-01T18:07:39.342179Z",
     "shell.execute_reply": "2024-06-01T18:07:39.341448Z"
    },
    "papermill": {
     "duration": 0.025383,
     "end_time": "2024-06-01T18:07:39.344552",
     "exception": false,
     "start_time": "2024-06-01T18:07:39.319169",
     "status": "completed"
    },
    "tags": []
   },
   "outputs": [
    {
     "data": {
      "text/plain": [
       "890840182.19"
      ]
     },
     "execution_count": 28,
     "metadata": {},
     "output_type": "execute_result"
    }
   ],
   "source": [
    "sum_of_finance = data1['Commitment in U.A'].sum()\n",
    "sum_of_finance"
   ]
  },
  {
   "cell_type": "code",
   "execution_count": 29,
   "id": "6d7c82aa",
   "metadata": {
    "execution": {
     "iopub.execute_input": "2024-06-01T18:07:39.380895Z",
     "iopub.status.busy": "2024-06-01T18:07:39.380518Z",
     "iopub.status.idle": "2024-06-01T18:07:39.387528Z",
     "shell.execute_reply": "2024-06-01T18:07:39.386485Z"
    },
    "papermill": {
     "duration": 0.024687,
     "end_time": "2024-06-01T18:07:39.389650",
     "exception": false,
     "start_time": "2024-06-01T18:07:39.364963",
     "status": "completed"
    },
    "tags": []
   },
   "outputs": [
    {
     "data": {
      "text/plain": [
       "307786342.44"
      ]
     },
     "execution_count": 29,
     "metadata": {},
     "output_type": "execute_result"
    }
   ],
   "source": [
    "sum_multinational= f_multinational['Commitment in U.A'].sum()\n",
    "sum_multinational"
   ]
  },
  {
   "cell_type": "code",
   "execution_count": 30,
   "id": "4d212452",
   "metadata": {
    "execution": {
     "iopub.execute_input": "2024-06-01T18:07:39.417689Z",
     "iopub.status.busy": "2024-06-01T18:07:39.417107Z",
     "iopub.status.idle": "2024-06-01T18:07:39.424289Z",
     "shell.execute_reply": "2024-06-01T18:07:39.423237Z"
    },
    "papermill": {
     "duration": 0.023981,
     "end_time": "2024-06-01T18:07:39.426409",
     "exception": false,
     "start_time": "2024-06-01T18:07:39.402428",
     "status": "completed"
    },
    "tags": []
   },
   "outputs": [
    {
     "data": {
      "text/plain": [
       "221446625.35999998"
      ]
     },
     "execution_count": 30,
     "metadata": {},
     "output_type": "execute_result"
    }
   ],
   "source": [
    "sum_tunisia= f_tunesia['Commitment in U.A'].sum()\n",
    "sum_tunisia"
   ]
  },
  {
   "cell_type": "code",
   "execution_count": 31,
   "id": "5f207e8c",
   "metadata": {
    "execution": {
     "iopub.execute_input": "2024-06-01T18:07:39.454655Z",
     "iopub.status.busy": "2024-06-01T18:07:39.453743Z",
     "iopub.status.idle": "2024-06-01T18:07:39.461322Z",
     "shell.execute_reply": "2024-06-01T18:07:39.460352Z"
    },
    "papermill": {
     "duration": 0.024043,
     "end_time": "2024-06-01T18:07:39.463419",
     "exception": false,
     "start_time": "2024-06-01T18:07:39.439376",
     "status": "completed"
    },
    "tags": []
   },
   "outputs": [
    {
     "data": {
      "text/plain": [
       "154301904.17000002"
      ]
     },
     "execution_count": 31,
     "metadata": {},
     "output_type": "execute_result"
    }
   ],
   "source": [
    "sum_of_kenya = f_kenya['Commitment in U.A'].sum()\n",
    "sum_of_kenya "
   ]
  },
  {
   "cell_type": "code",
   "execution_count": 32,
   "id": "290b2029",
   "metadata": {
    "execution": {
     "iopub.execute_input": "2024-06-01T18:07:39.492286Z",
     "iopub.status.busy": "2024-06-01T18:07:39.491534Z",
     "iopub.status.idle": "2024-06-01T18:07:39.498775Z",
     "shell.execute_reply": "2024-06-01T18:07:39.497193Z"
    },
    "papermill": {
     "duration": 0.024384,
     "end_time": "2024-06-01T18:07:39.500943",
     "exception": false,
     "start_time": "2024-06-01T18:07:39.476559",
     "status": "completed"
    },
    "tags": []
   },
   "outputs": [
    {
     "name": "stdout",
     "output_type": "stream",
     "text": [
      "34.55011893192249\n",
      "24.858176560424777\n",
      "17.32094120301931\n"
     ]
    }
   ],
   "source": [
    "multinational_percent = (sum_multinational/sum_of_finance)*100\n",
    "print(multinational_percent)\n",
    "tunisia_percent = (sum_tunisia/sum_of_finance)*100\n",
    "print(tunisia_percent)\n",
    "kenya_percent = (sum_of_kenya/sum_of_finance)*100\n",
    "print(kenya_percent)"
   ]
  },
  {
   "cell_type": "code",
   "execution_count": 33,
   "id": "37dc26bf",
   "metadata": {
    "execution": {
     "iopub.execute_input": "2024-06-01T18:07:39.529669Z",
     "iopub.status.busy": "2024-06-01T18:07:39.528942Z",
     "iopub.status.idle": "2024-06-01T18:07:39.690786Z",
     "shell.execute_reply": "2024-06-01T18:07:39.689582Z"
    },
    "papermill": {
     "duration": 0.179895,
     "end_time": "2024-06-01T18:07:39.694208",
     "exception": false,
     "start_time": "2024-06-01T18:07:39.514313",
     "status": "completed"
    },
    "tags": []
   },
   "outputs": [
    {
     "data": {
      "image/png": "[encoded data removed]",
      "text/plain": [
       "<Figure size 640x480 with 1 Axes>"
      ]
     },
     "metadata": {},
     "output_type": "display_data"
    }
   ],
   "source": [
    "labels = ['Multinational', 'Tunisia', 'Kenya']\n",
    "sizes = [multinational_percent, tunisia_percent, kenya_percent]\n",
    "colors = ['gold', 'lightcoral', 'lightskyblue']\n",
    "explode = (0.1, 0, 0)  # explode the 1st slice\n",
    "\n",
    "plt.pie(sizes, explode=explode, labels=labels, colors=colors, autopct='%1.1f%%', shadow=True, startangle=140)\n",
    "plt.axis('equal')\n",
    "\n",
    "\n",
    "plt.show()"
   ]
  },
  {
   "cell_type": "code",
   "execution_count": null,
   "id": "f4fa2533",
   "metadata": {
    "papermill": {
     "duration": 0.025186,
     "end_time": "2024-06-01T18:07:39.745171",
     "exception": false,
     "start_time": "2024-06-01T18:07:39.719985",
     "status": "completed"
    },
    "tags": []
   },
   "outputs": [],
   "source": []
  }
 ],
 "metadata": {
  "kaggle": {
   "accelerator": "none",
   "dataSources": [
    {
     "datasetId": 996014,
     "sourceId": 1681046,
     "sourceType": "datasetVersion"
    }
   ],
   "dockerImageVersionId": 30715,
   "isGpuEnabled": false,
   "isInternetEnabled": true,
   "language": "python",
   "sourceType": "notebook"
  },
  "kernelspec": {
   "display_name": "Python 3",
   "language": "python",
   "name": "python3"
  },
  "language_info": {
   "codemirror_mode": {
    "name": "ipython",
    "version": 3
   },
   "file_extension": ".py",
   "mimetype": "text/x-python",
   "name": "python",
   "nbconvert_exporter": "python",
   "pygments_lexer": "ipython3",
   "version": "3.10.13"
  },
  "papermill": {
   "default_parameters": {},
   "duration": 8.445139,
   "end_time": "2024-06-01T18:07:40.384000",
   "environment_variables": {},
   "exception": null,
   "input_path": "__notebook__.ipynb",
   "output_path": "__notebook__.ipynb",
   "parameters": {},
   "start_time": "2024-06-01T18:07:31.938861",
   "version": "2.5.0"
  }
 },
 "nbformat": 4,
 "nbformat_minor": 5
}
